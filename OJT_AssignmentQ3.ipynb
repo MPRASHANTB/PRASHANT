{
  "nbformat": 4,
  "nbformat_minor": 0,
  "metadata": {
    "colab": {
      "provenance": [],
      "authorship_tag": "ABX9TyNuqgmKEUSB28JAg7Uo3uGz",
      "include_colab_link": true
    },
    "kernelspec": {
      "name": "python3",
      "display_name": "Python 3"
    },
    "language_info": {
      "name": "python"
    }
  },
  "cells": [
    {
      "cell_type": "markdown",
      "metadata": {
        "id": "view-in-github",
        "colab_type": "text"
      },
      "source": [
        "<a href=\"https://colab.research.google.com/github/MPRASHANTB/PRASHANT/blob/main/OJT_AssignmentQ3.ipynb\" target=\"_parent\"><img src=\"https://colab.research.google.com/assets/colab-badge.svg\" alt=\"Open In Colab\"/></a>"
      ]
    },
    {
      "cell_type": "code",
      "execution_count": 1,
      "metadata": {
        "colab": {
          "base_uri": "https://localhost:8080/"
        },
        "id": "1pYRQ-GhcMS6",
        "outputId": "50f1e3b2-7788-4372-8fc4-c6341585d45b"
      },
      "outputs": [
        {
          "output_type": "stream",
          "name": "stdout",
          "text": [
            "Original Matrix A:\n",
            "[[3 8 8 8 0]\n",
            " [5 8 9 1 2]\n",
            " [1 1 4 6 3]\n",
            " [3 0 5 3 3]\n",
            " [6 7 2 7 8]]\n",
            "\n",
            "Is A equals to U * Sigma * Vt:  True\n",
            "\n",
            "Matrix U:\n",
            "[[-0.56509287  0.33554337 -0.47580853 -0.49685988 -0.30792404]\n",
            " [-0.50173996  0.55518042  0.53357846  0.24165433  0.3113341 ]\n",
            " [-0.28472728 -0.23143435 -0.55464206  0.26625614  0.69774521]\n",
            " [-0.25464358 -0.07276184 -0.18068993  0.76211057 -0.56249532]\n",
            " [-0.53199069 -0.72133848  0.38551732 -0.20743336 -0.07074249]]\n",
            "\n",
            "Matrix Sigma:\n",
            "[[23.62982479  0.          0.          0.          0.        ]\n",
            " [ 0.          8.46263633  0.          0.          0.        ]\n",
            " [ 0.          0.          6.18060067  0.          0.        ]\n",
            " [ 0.          0.          0.          4.88726698  0.        ]\n",
            " [ 0.          0.          0.          0.          0.96434626]]\n",
            "\n",
            "Matrix Vt:\n",
            "[[-0.35736958 -0.53082597 -0.52952195 -0.47476916 -0.29105243]\n",
            " [-0.11760148  0.21801558  0.58477607 -0.40374341 -0.65853421]\n",
            " [ 0.39751133  0.4216643  -0.21927405 -0.71905482  0.31474279]\n",
            " [ 0.20986775 -0.66037352  0.54441893 -0.26628167  0.39059498]\n",
            " [-0.8101834   0.23832546  0.18212736 -0.15375222  0.47957659]]\n",
            "\n",
            "Rank 2 Approximation of Matrix A:\n",
            "[[4.43803324 7.70721629 8.73124994 5.19315187 2.0164748 ]\n",
            " [3.68445762 7.3177876  9.02547423 3.7319725  0.35674086]\n",
            " [2.63473016 3.14443339 2.41734306 3.98502285 3.24798568]\n",
            " [2.22277219 3.05983254 2.82615069 3.10538088 2.15681287]\n",
            " [5.21032766 5.34207212 3.08681754 8.43287184 7.67874843]]\n",
            "\n",
            "Rank 3 Approximation of Matrix A:\n",
            "[[3.26903887 6.4671933  9.37608722 7.3077357  1.09088471]\n",
            " [4.99538455 8.70836706 8.30234452 1.36064807 1.39471077]\n",
            " [1.27205295 1.69895928 3.16901911 6.44995792 2.16904076]\n",
            " [1.77884254 2.58892952 3.07102987 3.9084014  1.80531684]\n",
            " [6.15748927 6.3467837  2.564347   6.71955936 8.42869507]]\n"
          ]
        }
      ],
      "source": [
        "# Q3 Singular Value Decomposition (SVD):\n",
        "\n",
        "import numpy as np\n",
        "\n",
        "# Set the random seed\n",
        "np.random.seed(27)\n",
        "\n",
        "# Create a 5x5 matrix with random integers between 0 and 9\n",
        "A = np.random.randint(0, 10, size=(5, 5))\n",
        "\n",
        "print(\"Original Matrix A:\")\n",
        "print(A)\n",
        "\n",
        "# Perform Singular Value Decomposition\n",
        "U, Sigma, Vt = np.linalg.svd(A)\n",
        "\n",
        "# Construct Sigma matrix (convert to diagonal matrix)\n",
        "Sigma_matrix = np.diag(Sigma)\n",
        "\n",
        "# Verify that A equals the product of U, Sigma, and Vt\n",
        "A_reconstructed = np.dot(U, np.dot(Sigma_matrix, Vt))\n",
        "print(\"\\nIs A equals to U * Sigma * Vt: \", np.allclose(A, A_reconstructed))\n",
        "\n",
        "# Print U, Sigma, and Vt matrices\n",
        "print(\"\\nMatrix U:\")\n",
        "print(U)\n",
        "print(\"\\nMatrix Sigma:\")\n",
        "print(Sigma_matrix)\n",
        "print(\"\\nMatrix Vt:\")\n",
        "print(Vt)\n",
        "\n",
        "# Rank 2 approximation of matrix A\n",
        "rank_2_approximation = np.dot(U[:, :2], np.dot(np.diag(Sigma[:2]), Vt[:2, :]))\n",
        "print(\"\\nRank 2 Approximation of Matrix A:\")\n",
        "print(rank_2_approximation)\n",
        "\n",
        "# Rank 3 approximation of matrix A\n",
        "rank_3_approximation = np.dot(U[:, :3], np.dot(np.diag(Sigma[:3]), Vt[:3, :]))\n",
        "print(\"\\nRank 3 Approximation of Matrix A:\")\n",
        "print(rank_3_approximation)"
      ]
    }
  ]
}