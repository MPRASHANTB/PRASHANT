{
  "nbformat": 4,
  "nbformat_minor": 0,
  "metadata": {
    "colab": {
      "provenance": [],
      "authorship_tag": "ABX9TyMWE04ovtpNyt8/cExv+zNH",
      "include_colab_link": true
    },
    "kernelspec": {
      "name": "python3",
      "display_name": "Python 3"
    },
    "language_info": {
      "name": "python"
    }
  },
  "cells": [
    {
      "cell_type": "markdown",
      "metadata": {
        "id": "view-in-github",
        "colab_type": "text"
      },
      "source": [
        "<a href=\"https://colab.research.google.com/github/MPRASHANTB/PRASHANT/blob/main/OJT_AssignmentQ2.ipynb\" target=\"_parent\"><img src=\"https://colab.research.google.com/assets/colab-badge.svg\" alt=\"Open In Colab\"/></a>"
      ]
    },
    {
      "cell_type": "code",
      "execution_count": 1,
      "metadata": {
        "colab": {
          "base_uri": "https://localhost:8080/"
        },
        "id": "lWv1pn_4bz-E",
        "outputId": "7118b824-a403-42b9-93cd-cf260747fbf1"
      },
      "outputs": [
        {
          "output_type": "stream",
          "name": "stdout",
          "text": [
            "Original Matrix A:\n",
            "[[3 8 8 8 0]\n",
            " [5 8 9 1 2]\n",
            " [1 1 4 6 3]\n",
            " [3 0 5 3 3]\n",
            " [6 7 2 7 8]]\n",
            "\n",
            "Row Echelon Form of Matrix A:\n",
            "[[1 0 0 0 0]\n",
            " [0 1 0 0 0]\n",
            " [0 0 1 0 0]\n",
            " [0 0 0 1 0]\n",
            " [0 0 0 0 1]]\n"
          ]
        }
      ],
      "source": [
        "#Q2 Row Echelon Form:\n",
        "import numpy as np\n",
        "\n",
        "# Set the random seed\n",
        "np.random.seed(27)\n",
        "\n",
        "# Create a 5x5 matrix with random integers between 0 and 9\n",
        "A = np.random.randint(0, 10, size=(5, 5))\n",
        "\n",
        "print(\"Original Matrix A:\")\n",
        "print(A)\n",
        "\n",
        "# Function to perform elementary row operations to reduce matrix to Row Echelon Form\n",
        "def row_echelon_form(matrix):\n",
        "    m, n = matrix.shape\n",
        "    lead = 0\n",
        "    for r in range(m):\n",
        "        if lead >= n:\n",
        "            break\n",
        "        i = r\n",
        "        while matrix[i, lead] == 0:\n",
        "            i += 1\n",
        "            if i == m:\n",
        "                i = r\n",
        "                lead += 1\n",
        "                if n == lead:\n",
        "                    return matrix\n",
        "        matrix[[i, r]] = matrix[[r, i]]\n",
        "        lv = matrix[r, lead]\n",
        "        matrix[r] = matrix[r] / lv\n",
        "        for i in range(m):\n",
        "            if i != r:\n",
        "                lv = matrix[i, lead]\n",
        "                matrix[i] -= lv * matrix[r]\n",
        "        lead += 1\n",
        "    return matrix\n",
        "\n",
        "# Reduce matrix A to its Row Echelon Form\n",
        "row_echelon_A = row_echelon_form(A.copy())\n",
        "\n",
        "print(\"\\nRow Echelon Form of Matrix A:\")\n",
        "print(row_echelon_A)"
      ]
    }
  ]
}